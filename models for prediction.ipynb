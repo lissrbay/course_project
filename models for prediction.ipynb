{
 "cells": [
  {
   "cell_type": "markdown",
   "metadata": {},
   "source": [
    "Здесь используется датасет данных о результатах тестирования крови пациентов с инфекционными заболеваниями различной тяжести."
   ]
  },
  {
   "cell_type": "code",
   "execution_count": 22,
   "metadata": {},
   "outputs": [
    {
     "data": {
      "text/html": [
       "<div>\n",
       "<style scoped>\n",
       "    .dataframe tbody tr th:only-of-type {\n",
       "        vertical-align: middle;\n",
       "    }\n",
       "\n",
       "    .dataframe tbody tr th {\n",
       "        vertical-align: top;\n",
       "    }\n",
       "\n",
       "    .dataframe thead th {\n",
       "        text-align: right;\n",
       "    }\n",
       "</style>\n",
       "<table border=\"1\" class=\"dataframe\">\n",
       "  <thead>\n",
       "    <tr style=\"text-align: right;\">\n",
       "      <th></th>\n",
       "      <th>Patient ID</th>\n",
       "      <th>Patient age quantile</th>\n",
       "      <th>Patient gender</th>\n",
       "      <th>Patient addmited to regular ward (1=yes, 0=no)</th>\n",
       "      <th>Patient addmited to semi-intensive unit (1=yes, 0=no)</th>\n",
       "      <th>Patient addmited to intensive care unit (1=yes, 0=no)</th>\n",
       "      <th>Hematocrit</th>\n",
       "      <th>Hemoglobin</th>\n",
       "      <th>Platelets</th>\n",
       "      <th>Platelets.1</th>\n",
       "      <th>...</th>\n",
       "      <th>Hb saturation (arterial blood gases)</th>\n",
       "      <th>pCO2 (arterial blood gas analysis)</th>\n",
       "      <th>Base excess (arterial blood gas analysis)</th>\n",
       "      <th>pH (arterial blood gas analysis)</th>\n",
       "      <th>Total CO2 (arterial blood gas analysis)</th>\n",
       "      <th>HCO3 (arterial blood gas analysis)</th>\n",
       "      <th>pO2 (arterial blood gas analysis)</th>\n",
       "      <th>Arteiral Fio2</th>\n",
       "      <th>Phosphor</th>\n",
       "      <th>ctO2 (arterial blood gas analysis)</th>\n",
       "    </tr>\n",
       "  </thead>\n",
       "  <tbody>\n",
       "    <tr>\n",
       "      <th>0</th>\n",
       "      <td>36cb38a59ce2776</td>\n",
       "      <td>19</td>\n",
       "      <td>1.0</td>\n",
       "      <td>0</td>\n",
       "      <td>1</td>\n",
       "      <td>0</td>\n",
       "      <td>-2.212562</td>\n",
       "      <td>-2.027332</td>\n",
       "      <td>0.826701</td>\n",
       "      <td>0.826701</td>\n",
       "      <td>...</td>\n",
       "      <td>NaN</td>\n",
       "      <td>NaN</td>\n",
       "      <td>NaN</td>\n",
       "      <td>NaN</td>\n",
       "      <td>NaN</td>\n",
       "      <td>NaN</td>\n",
       "      <td>NaN</td>\n",
       "      <td>NaN</td>\n",
       "      <td>NaN</td>\n",
       "      <td>NaN</td>\n",
       "    </tr>\n",
       "    <tr>\n",
       "      <th>1</th>\n",
       "      <td>c24489c2c092940</td>\n",
       "      <td>1</td>\n",
       "      <td>1.0</td>\n",
       "      <td>0</td>\n",
       "      <td>0</td>\n",
       "      <td>1</td>\n",
       "      <td>-0.335699</td>\n",
       "      <td>-0.272964</td>\n",
       "      <td>1.869331</td>\n",
       "      <td>1.869331</td>\n",
       "      <td>...</td>\n",
       "      <td>NaN</td>\n",
       "      <td>NaN</td>\n",
       "      <td>NaN</td>\n",
       "      <td>NaN</td>\n",
       "      <td>NaN</td>\n",
       "      <td>NaN</td>\n",
       "      <td>NaN</td>\n",
       "      <td>NaN</td>\n",
       "      <td>NaN</td>\n",
       "      <td>NaN</td>\n",
       "    </tr>\n",
       "    <tr>\n",
       "      <th>2</th>\n",
       "      <td>0502def18bdfe50</td>\n",
       "      <td>12</td>\n",
       "      <td>0.0</td>\n",
       "      <td>0</td>\n",
       "      <td>1</td>\n",
       "      <td>0</td>\n",
       "      <td>0.534067</td>\n",
       "      <td>0.416252</td>\n",
       "      <td>-0.944515</td>\n",
       "      <td>-0.944515</td>\n",
       "      <td>...</td>\n",
       "      <td>0.481668</td>\n",
       "      <td>-0.147534</td>\n",
       "      <td>-0.370748</td>\n",
       "      <td>-0.140394</td>\n",
       "      <td>-0.416739</td>\n",
       "      <td>-0.436953</td>\n",
       "      <td>0.247995</td>\n",
       "      <td>NaN</td>\n",
       "      <td>NaN</td>\n",
       "      <td>0.902048</td>\n",
       "    </tr>\n",
       "    <tr>\n",
       "      <th>3</th>\n",
       "      <td>b24d08efa988dd1</td>\n",
       "      <td>14</td>\n",
       "      <td>0.0</td>\n",
       "      <td>0</td>\n",
       "      <td>0</td>\n",
       "      <td>1</td>\n",
       "      <td>0.923173</td>\n",
       "      <td>1.293436</td>\n",
       "      <td>0.512655</td>\n",
       "      <td>0.512655</td>\n",
       "      <td>...</td>\n",
       "      <td>NaN</td>\n",
       "      <td>NaN</td>\n",
       "      <td>NaN</td>\n",
       "      <td>NaN</td>\n",
       "      <td>NaN</td>\n",
       "      <td>NaN</td>\n",
       "      <td>NaN</td>\n",
       "      <td>NaN</td>\n",
       "      <td>NaN</td>\n",
       "      <td>NaN</td>\n",
       "    </tr>\n",
       "    <tr>\n",
       "      <th>4</th>\n",
       "      <td>516736a6c7aec6b</td>\n",
       "      <td>13</td>\n",
       "      <td>0.0</td>\n",
       "      <td>0</td>\n",
       "      <td>1</td>\n",
       "      <td>0</td>\n",
       "      <td>-0.106813</td>\n",
       "      <td>-0.084996</td>\n",
       "      <td>1.442229</td>\n",
       "      <td>1.442229</td>\n",
       "      <td>...</td>\n",
       "      <td>NaN</td>\n",
       "      <td>NaN</td>\n",
       "      <td>NaN</td>\n",
       "      <td>NaN</td>\n",
       "      <td>NaN</td>\n",
       "      <td>NaN</td>\n",
       "      <td>NaN</td>\n",
       "      <td>NaN</td>\n",
       "      <td>NaN</td>\n",
       "      <td>NaN</td>\n",
       "    </tr>\n",
       "  </tbody>\n",
       "</table>\n",
       "<p>5 rows × 124 columns</p>\n",
       "</div>"
      ],
      "text/plain": [
       "        Patient ID  Patient age quantile  Patient gender  \\\n",
       "0  36cb38a59ce2776                    19             1.0   \n",
       "1  c24489c2c092940                     1             1.0   \n",
       "2  0502def18bdfe50                    12             0.0   \n",
       "3  b24d08efa988dd1                    14             0.0   \n",
       "4  516736a6c7aec6b                    13             0.0   \n",
       "\n",
       "   Patient addmited to regular ward (1=yes, 0=no)  \\\n",
       "0                                               0   \n",
       "1                                               0   \n",
       "2                                               0   \n",
       "3                                               0   \n",
       "4                                               0   \n",
       "\n",
       "   Patient addmited to semi-intensive unit (1=yes, 0=no)  \\\n",
       "0                                                  1       \n",
       "1                                                  0       \n",
       "2                                                  1       \n",
       "3                                                  0       \n",
       "4                                                  1       \n",
       "\n",
       "   Patient addmited to intensive care unit (1=yes, 0=no)  Hematocrit  \\\n",
       "0                                                  0       -2.212562   \n",
       "1                                                  1       -0.335699   \n",
       "2                                                  0        0.534067   \n",
       "3                                                  1        0.923173   \n",
       "4                                                  0       -0.106813   \n",
       "\n",
       "   Hemoglobin  Platelets  Platelets.1  ...  \\\n",
       "0   -2.027332   0.826701     0.826701  ...   \n",
       "1   -0.272964   1.869331     1.869331  ...   \n",
       "2    0.416252  -0.944515    -0.944515  ...   \n",
       "3    1.293436   0.512655     0.512655  ...   \n",
       "4   -0.084996   1.442229     1.442229  ...   \n",
       "\n",
       "   Hb saturation (arterial blood gases)  pCO2 (arterial blood gas analysis)  \\\n",
       "0                                   NaN                                 NaN   \n",
       "1                                   NaN                                 NaN   \n",
       "2                              0.481668                           -0.147534   \n",
       "3                                   NaN                                 NaN   \n",
       "4                                   NaN                                 NaN   \n",
       "\n",
       "   Base excess (arterial blood gas analysis)  \\\n",
       "0                                        NaN   \n",
       "1                                        NaN   \n",
       "2                                  -0.370748   \n",
       "3                                        NaN   \n",
       "4                                        NaN   \n",
       "\n",
       "   pH (arterial blood gas analysis)  Total CO2 (arterial blood gas analysis)  \\\n",
       "0                               NaN                                      NaN   \n",
       "1                               NaN                                      NaN   \n",
       "2                         -0.140394                                -0.416739   \n",
       "3                               NaN                                      NaN   \n",
       "4                               NaN                                      NaN   \n",
       "\n",
       "   HCO3 (arterial blood gas analysis)  pO2 (arterial blood gas analysis)  \\\n",
       "0                                 NaN                                NaN   \n",
       "1                                 NaN                                NaN   \n",
       "2                           -0.436953                           0.247995   \n",
       "3                                 NaN                                NaN   \n",
       "4                                 NaN                                NaN   \n",
       "\n",
       "   Arteiral Fio2  Phosphor  ctO2 (arterial blood gas analysis)  \n",
       "0            NaN       NaN                                 NaN  \n",
       "1            NaN       NaN                                 NaN  \n",
       "2            NaN       NaN                            0.902048  \n",
       "3            NaN       NaN                                 NaN  \n",
       "4            NaN       NaN                                 NaN  \n",
       "\n",
       "[5 rows x 124 columns]"
      ]
     },
     "execution_count": 22,
     "metadata": {},
     "output_type": "execute_result"
    }
   ],
   "source": [
    "import pandas as pd\n",
    "import numpy as np\n",
    "from sklearn.metrics import roc_auc_score, roc_curve, log_loss, auc\n",
    "import scipy.stats as ss\n",
    "from sklearn.metrics import r2_score\n",
    "from sklearn.metrics import accuracy_score\n",
    "df = pd.read_csv('balansed.csv', encoding = 'iso-8859-1')\n",
    "df.head()"
   ]
  },
  {
   "cell_type": "code",
   "execution_count": 23,
   "metadata": {},
   "outputs": [],
   "source": [
    "def read_data():\n",
    "    df = pd.read_csv('balansed.csv').reset_index(drop=True)\n",
    "    return df\n"
   ]
  },
  {
   "cell_type": "markdown",
   "metadata": {},
   "source": [
    "Названия признаков и степеней тяжести заболевания соответственно в списках diseases_name и symptoms_name.\n",
    "В diseases_name оставлены только признаки, которые не дублируются другими и при этом имеют большое число заполненных записей."
   ]
  },
  {
   "cell_type": "code",
   "execution_count": 61,
   "metadata": {},
   "outputs": [
    {
     "name": "stdout",
     "output_type": "stream",
     "text": [
      "Сейчас датасет содержит данные о 135 пациентах и обучается на данных о 108 пациентах.\n",
      "Представителей классов:\n",
      "1: 61\n",
      "2: 48\n",
      "3: 26\n"
     ]
    }
   ],
   "source": [
    "diseases_name = [ 'Patient age quantile', \n",
    "       'Patient gender', \n",
    "       'Hematocrit', 'Hemoglobin', 'Platelets.1',\n",
    "       'Red blood Cells',\n",
    "       'Lymphocytes', 'Leukocytes', 'Basophils',\n",
    "       'Eosinophils #',\n",
    "       'Basophils #', 'Monocytes #',\n",
    "       'Red blood cell distribution width (RDW)',\n",
    "       'Hb saturation (venous blood gas analysis)',\n",
    "       'Base excess (venous blood gas analysis)',\n",
    "       'pO2 (venous blood gas analysis)',\n",
    "       'pH (venous blood gas analysis)',\n",
    "       'HCO3 (venous blood gas analysis)',  'Neutrophils', 'Urea', 'Proteina C reativa mg/dL',\n",
    "       'Creatinine', 'Potassium', 'Sodium']\n",
    "\n",
    "symptoms_name = ['Patient addmited to regular ward (1=yes, 0=no)',\n",
    "                 'Patient addmited to semi-intensive unit (1=yes, 0=no)',\n",
    "                 'Patient addmited to intensive care unit (1=yes, 0=no)']\n",
    "fraction = 0.80\n",
    "print('Сейчас датасет содержит данные о {} пациентах и обучается на данных о {} пациентах.'.format(df.shape[0],\n",
    "                                                                                                   int(fraction*df.shape[0])))\n",
    "df_1 = df[df['Patient addmited to regular ward (1=yes, 0=no)'] == 1]\n",
    "df_2 = df[df['Patient addmited to semi-intensive unit (1=yes, 0=no)'] == 1]\n",
    "df_3 = df[df['Patient addmited to intensive care unit (1=yes, 0=no)'] == 1]\n",
    "print(\"Представителей классов:\")\n",
    "print(\"1:\", df_1.shape[0])\n",
    "print(\"2:\", df_2.shape[0])\n",
    "print(\"3:\", df_3.shape[0])"
   ]
  },
  {
   "cell_type": "code",
   "execution_count": 62,
   "metadata": {},
   "outputs": [
    {
     "name": "stdout",
     "output_type": "stream",
     "text": [
      "Factors for model #0: ['Lymphocytes', 'Monocytes #', 'Hb saturation (venous blood gas analysis)', 'pH (venous blood gas analysis)', 'Proteina C reativa mg/dL']\n",
      "Factors for model #1: ['Patient age quantile', 'Leukocytes', 'Eosinophils #', 'Monocytes #', 'pO2 (venous blood gas analysis)', 'Sodium']\n",
      "Factors for model #2: ['Patient age quantile', 'Leukocytes', 'Monocytes #', 'Hb saturation (venous blood gas analysis)', 'Sodium']\n",
      "Use intercept:  [False, False, False]\n",
      "Model #1\n",
      "McFadden's pseudo r^2:  0.6428521819892619\n",
      "Statistics value: 23.025673241622634\n",
      "Chi2 distribution critical value: 1.6353828943279067\n",
      "Model #2\n",
      "McFadden's pseudo r^2:  0.6249971061604027\n",
      "Statistics value: 12.792080176083202\n",
      "Chi2 distribution critical value: 2.167349909298057\n",
      "Model #3\n",
      "McFadden's pseudo r^2:  0.39999073971328847\n",
      "Statistics value: 5.116737303330441\n",
      "Chi2 distribution critical value: 1.6353828943279067\n",
      "All coefficients were significant!\n",
      "Fitted!\n"
     ]
    }
   ],
   "source": [
    "from classifier import OnevsRestClassifier\n",
    "from logistic_regression import LogisticRegression\n",
    "\n",
    "\n",
    "params = {}\n",
    "clf = OnevsRestClassifier(LogisticRegression, params)\n",
    "X = df[diseases_name].copy()\n",
    "Y = df[symptoms_name].copy()\n",
    "_, _ = clf.fit(X, Y)\n",
    "_, _, test_X, test_Y = clf.impute()\n",
    "preds = clf.predict_proba(test_X)"
   ]
  },
  {
   "cell_type": "code",
   "execution_count": 63,
   "metadata": {},
   "outputs": [
    {
     "name": "stdout",
     "output_type": "stream",
     "text": [
      "Model #1\n",
      "Name                                      |  Coefficient  |  Std. error   |norm_statistic |    p_value    |\n",
      "Intercept                                 |   0.000000    |   0.376543    |   0.000000    |   1.000000    |\n",
      "Lymphocytes                               |   0.673591    |   0.330150    |   2.040255    |   0.041325    |\n",
      "Monocytes #                               |   -1.012749   |   0.379787    |   -2.666623   |   0.007662    |\n",
      "Hb saturation (venous blood gas analysis) |   -1.878023   |   0.379054    |   -4.954497   |   0.000001    |\n",
      "pH (venous blood gas analysis)            |   1.011003    |   0.387602    |   2.608349    |   0.009098    |\n",
      "Proteina C reativa mg/dL                  |   -1.547050   |   0.284498    |   -5.437818   |   0.000000    |\n",
      "Model #2\n",
      "Name                                      |  Coefficient  |  Std. error   |norm_statistic |    p_value    |\n",
      "Intercept                                 |   0.000000    |   0.999145    |   0.000000    |   1.000000    |\n",
      "Patient age quantile                      |   -0.188782   |   0.070821    |   -2.665640   |   0.007684    |\n",
      "Leukocytes                                |   -1.261098   |   0.414386    |   -3.043290   |   0.002340    |\n",
      "Eosinophils #                             |   1.041149    |   0.517645    |   2.011319    |   0.044292    |\n",
      "Monocytes #                               |   2.712687    |   0.527357    |   5.143925    |   0.000000    |\n",
      "pO2 (venous blood gas analysis)           |   1.159975    |   0.459765    |   2.522973    |   0.011637    |\n",
      "Sodium                                    |   -1.779600   |   0.440526    |   -4.039714   |   0.000054    |\n",
      "Model #3\n",
      "Name                                      |  Coefficient  |  Std. error   |norm_statistic |    p_value    |\n",
      "Intercept                                 |   0.000000    |   0.756637    |   0.000000    |   1.000000    |\n",
      "Patient age quantile                      |   -0.214651   |   0.054262    |   -3.955812   |   0.000076    |\n",
      "Leukocytes                                |   1.533012    |   0.314857    |   4.868920    |   0.000001    |\n",
      "Monocytes #                               |   -1.813108   |   0.405768    |   -4.468339   |   0.000008    |\n",
      "Hb saturation (venous blood gas analysis) |   1.079864    |   0.352113    |   3.066807    |   0.002164    |\n",
      "Sodium                                    |   1.048313    |   0.327846    |   3.197576    |   0.001386    |\n"
     ]
    }
   ],
   "source": [
    "clf.classifierModelsInfo()"
   ]
  },
  {
   "cell_type": "code",
   "execution_count": 64,
   "metadata": {},
   "outputs": [
    {
     "name": "stdout",
     "output_type": "stream",
     "text": [
      "Roc-auc score for model #0: 0.868131868131868\n",
      "Roc-auc score for model #1: 0.8684210526315789\n",
      "Roc-auc score for model #2: 0.8818181818181817\n",
      "Roc-auc score for classifier: 0.882716049382716\n"
     ]
    }
   ],
   "source": [
    "clf.ROC_AUC_score(preds, test_Y)"
   ]
  },
  {
   "cell_type": "code",
   "execution_count": 66,
   "metadata": {},
   "outputs": [
    {
     "name": "stdout",
     "output_type": "stream",
     "text": [
      "Model #1\n",
      "Roc-auc score: 0.868131868131868\n"
     ]
    },
    {
     "data": {
      "image/png": "[encoded data removed]",
      "text/plain": [
       "<Figure size 432x288 with 1 Axes>"
      ]
     },
     "metadata": {
      "needs_background": "light"
     },
     "output_type": "display_data"
    },
    {
     "name": "stdout",
     "output_type": "stream",
     "text": [
      "Model #2\n",
      "Roc-auc score: 0.8684210526315789\n"
     ]
    },
    {
     "data": {
      "image/png": "[encoded data removed]",
      "text/plain": [
       "<Figure size 432x288 with 1 Axes>"
      ]
     },
     "metadata": {
      "needs_background": "light"
     },
     "output_type": "display_data"
    },
    {
     "name": "stdout",
     "output_type": "stream",
     "text": [
      "Model #3\n",
      "Roc-auc score: 0.8818181818181817\n"
     ]
    },
    {
     "data": {
      "image/png": "[encoded data removed]",
      "text/plain": [
       "<Figure size 432x288 with 1 Axes>"
      ]
     },
     "metadata": {
      "needs_background": "light"
     },
     "output_type": "display_data"
    }
   ],
   "source": [
    "import matplotlib.pyplot as plt\n",
    "\n",
    "for i in range(3):\n",
    "    print(\"Model #{}\".format(i + 1))\n",
    "    print(\"Roc-auc score:\", roc_auc_score(test_Y.values[:, i], preds[:, i], average='micro'))\n",
    "    fpr, tpr, threshold = roc_curve(test_Y.values[:, i], preds[:, i])\n",
    "    roc_auc = auc(fpr, tpr)\n",
    "    plt.title('ROC-curve Model#' + str(i + 1))\n",
    "    plt.plot(fpr, tpr, 'b', label = 'AUC = %0.2f' % roc_auc)\n",
    "    plt.legend(loc = 'lower right')\n",
    "    plt.plot([0, 1], [0, 1],'r--')\n",
    "    plt.xlim([0, 1])\n",
    "    plt.ylim([0, 1])\n",
    "    plt.ylabel('True Positive Rate')\n",
    "    plt.xlabel('False Positive Rate')\n",
    "    plt.show()"
   ]
  },
  {
   "cell_type": "code",
   "execution_count": null,
   "metadata": {},
   "outputs": [],
   "source": []
  }
 ],
 "metadata": {
  "kernelspec": {
   "display_name": "Python 3",
   "language": "python",
   "name": "python3"
  },
  "language_info": {
   "codemirror_mode": {
    "name": "ipython",
    "version": 3
   },
   "file_extension": ".py",
   "mimetype": "text/x-python",
   "name": "python",
   "nbconvert_exporter": "python",
   "pygments_lexer": "ipython3",
   "version": "3.7.3"
  }
 },
 "nbformat": 4,
 "nbformat_minor": 2
}
